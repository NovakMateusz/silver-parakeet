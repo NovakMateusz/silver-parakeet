{
 "cells": [
  {
   "cell_type": "markdown",
   "source": [
    "## Notebook for building very simple forecasting models to predict future prices of cryptocurrency. Historical data can be found on [www.investing.com](https://www.investing.com/crypto) This example base on the Bitcoin data."
   ],
   "metadata": {
    "collapsed": false
   }
  },
  {
   "cell_type": "code",
   "execution_count": 1,
   "outputs": [],
   "source": [
    "from datetime import datetime\n",
    "import warnings\n",
    "\n",
    "import matplotlib.pyplot as plt\n",
    "import pandas as pd\n",
    "from prophet import Prophet\n",
    "\n",
    "warnings.simplefilter(action='ignore', category=FutureWarning)"
   ],
   "metadata": {
    "collapsed": false,
    "pycharm": {
     "name": "#%%\n"
    }
   }
  },
  {
   "cell_type": "markdown",
   "source": [
    "### Loading Bitcoin's historical data"
   ],
   "metadata": {
    "collapsed": false
   }
  },
  {
   "cell_type": "code",
   "execution_count": 2,
   "outputs": [
    {
     "data": {
      "text/plain": "        Date     Price      Open      High       Low     Vol. Change %\n0 2022-03-31  45,937.0  47,071.0  47,624.0  45,620.0  516.59M   -2.42%\n1 2022-03-30  47,075.0  47,449.0  47,714.0  46,601.0  467.76M   -0.79%\n2 2022-03-29  47,449.0  47,126.0  48,127.0  47,029.0  478.82M    0.73%\n3 2022-03-28  47,105.0  46,859.0  48,199.0  46,672.0  610.27M    0.52%\n4 2022-03-27  46,859.0  44,542.0  46,947.0  44,445.0  388.79M    5.19%",
      "text/html": "<div>\n<style scoped>\n    .dataframe tbody tr th:only-of-type {\n        vertical-align: middle;\n    }\n\n    .dataframe tbody tr th {\n        vertical-align: top;\n    }\n\n    .dataframe thead th {\n        text-align: right;\n    }\n</style>\n<table border=\"1\" class=\"dataframe\">\n  <thead>\n    <tr style=\"text-align: right;\">\n      <th></th>\n      <th>Date</th>\n      <th>Price</th>\n      <th>Open</th>\n      <th>High</th>\n      <th>Low</th>\n      <th>Vol.</th>\n      <th>Change %</th>\n    </tr>\n  </thead>\n  <tbody>\n    <tr>\n      <th>0</th>\n      <td>2022-03-31</td>\n      <td>45,937.0</td>\n      <td>47,071.0</td>\n      <td>47,624.0</td>\n      <td>45,620.0</td>\n      <td>516.59M</td>\n      <td>-2.42%</td>\n    </tr>\n    <tr>\n      <th>1</th>\n      <td>2022-03-30</td>\n      <td>47,075.0</td>\n      <td>47,449.0</td>\n      <td>47,714.0</td>\n      <td>46,601.0</td>\n      <td>467.76M</td>\n      <td>-0.79%</td>\n    </tr>\n    <tr>\n      <th>2</th>\n      <td>2022-03-29</td>\n      <td>47,449.0</td>\n      <td>47,126.0</td>\n      <td>48,127.0</td>\n      <td>47,029.0</td>\n      <td>478.82M</td>\n      <td>0.73%</td>\n    </tr>\n    <tr>\n      <th>3</th>\n      <td>2022-03-28</td>\n      <td>47,105.0</td>\n      <td>46,859.0</td>\n      <td>48,199.0</td>\n      <td>46,672.0</td>\n      <td>610.27M</td>\n      <td>0.52%</td>\n    </tr>\n    <tr>\n      <th>4</th>\n      <td>2022-03-27</td>\n      <td>46,859.0</td>\n      <td>44,542.0</td>\n      <td>46,947.0</td>\n      <td>44,445.0</td>\n      <td>388.79M</td>\n      <td>5.19%</td>\n    </tr>\n  </tbody>\n</table>\n</div>"
     },
     "execution_count": 2,
     "metadata": {},
     "output_type": "execute_result"
    }
   ],
   "source": [
    "raw_df = pd.read_csv('datasets/BitcoinHistoricalData.csv', parse_dates=['Date'], date_parser=lambda dates: datetime.strptime(dates, '%b %d, %Y'))\n",
    "raw_df.head()"
   ],
   "metadata": {
    "collapsed": false,
    "pycharm": {
     "name": "#%%\n"
    }
   }
  },
  {
   "cell_type": "markdown",
   "source": [
    "### Data cleansing"
   ],
   "metadata": {
    "collapsed": false
   }
  },
  {
   "cell_type": "code",
   "execution_count": 3,
   "outputs": [
    {
     "data": {
      "text/plain": "        Date    Price     Open     High      Low\n0 2022-03-31  45937.0  47071.0  47624.0  45620.0\n1 2022-03-30  47075.0  47449.0  47714.0  46601.0\n2 2022-03-29  47449.0  47126.0  48127.0  47029.0\n3 2022-03-28  47105.0  46859.0  48199.0  46672.0\n4 2022-03-27  46859.0  44542.0  46947.0  44445.0",
      "text/html": "<div>\n<style scoped>\n    .dataframe tbody tr th:only-of-type {\n        vertical-align: middle;\n    }\n\n    .dataframe tbody tr th {\n        vertical-align: top;\n    }\n\n    .dataframe thead th {\n        text-align: right;\n    }\n</style>\n<table border=\"1\" class=\"dataframe\">\n  <thead>\n    <tr style=\"text-align: right;\">\n      <th></th>\n      <th>Date</th>\n      <th>Price</th>\n      <th>Open</th>\n      <th>High</th>\n      <th>Low</th>\n    </tr>\n  </thead>\n  <tbody>\n    <tr>\n      <th>0</th>\n      <td>2022-03-31</td>\n      <td>45937.0</td>\n      <td>47071.0</td>\n      <td>47624.0</td>\n      <td>45620.0</td>\n    </tr>\n    <tr>\n      <th>1</th>\n      <td>2022-03-30</td>\n      <td>47075.0</td>\n      <td>47449.0</td>\n      <td>47714.0</td>\n      <td>46601.0</td>\n    </tr>\n    <tr>\n      <th>2</th>\n      <td>2022-03-29</td>\n      <td>47449.0</td>\n      <td>47126.0</td>\n      <td>48127.0</td>\n      <td>47029.0</td>\n    </tr>\n    <tr>\n      <th>3</th>\n      <td>2022-03-28</td>\n      <td>47105.0</td>\n      <td>46859.0</td>\n      <td>48199.0</td>\n      <td>46672.0</td>\n    </tr>\n    <tr>\n      <th>4</th>\n      <td>2022-03-27</td>\n      <td>46859.0</td>\n      <td>44542.0</td>\n      <td>46947.0</td>\n      <td>44445.0</td>\n    </tr>\n  </tbody>\n</table>\n</div>"
     },
     "execution_count": 3,
     "metadata": {},
     "output_type": "execute_result"
    }
   ],
   "source": [
    "df = raw_df.drop(['Vol.', 'Change %'], axis=1)\n",
    "columns_to_convert = list(df.columns)\n",
    "columns_to_convert.remove('Date')\n",
    "for column in columns_to_convert:\n",
    "    df[column] = df[column].str.replace(',', '')\n",
    "df = df.astype({'Price': 'float', 'Open': 'float', 'High': 'float', 'Low': 'float'})\n",
    "df.head()"
   ],
   "metadata": {
    "collapsed": false,
    "pycharm": {
     "name": "#%%\n"
    }
   }
  },
  {
   "cell_type": "code",
   "execution_count": 4,
   "outputs": [
    {
     "data": {
      "text/plain": "          ds        y\n0 2022-03-31  45937.0\n1 2022-03-30  47075.0\n2 2022-03-29  47449.0\n3 2022-03-28  47105.0\n4 2022-03-27  46859.0",
      "text/html": "<div>\n<style scoped>\n    .dataframe tbody tr th:only-of-type {\n        vertical-align: middle;\n    }\n\n    .dataframe tbody tr th {\n        vertical-align: top;\n    }\n\n    .dataframe thead th {\n        text-align: right;\n    }\n</style>\n<table border=\"1\" class=\"dataframe\">\n  <thead>\n    <tr style=\"text-align: right;\">\n      <th></th>\n      <th>ds</th>\n      <th>y</th>\n    </tr>\n  </thead>\n  <tbody>\n    <tr>\n      <th>0</th>\n      <td>2022-03-31</td>\n      <td>45937.0</td>\n    </tr>\n    <tr>\n      <th>1</th>\n      <td>2022-03-30</td>\n      <td>47075.0</td>\n    </tr>\n    <tr>\n      <th>2</th>\n      <td>2022-03-29</td>\n      <td>47449.0</td>\n    </tr>\n    <tr>\n      <th>3</th>\n      <td>2022-03-28</td>\n      <td>47105.0</td>\n    </tr>\n    <tr>\n      <th>4</th>\n      <td>2022-03-27</td>\n      <td>46859.0</td>\n    </tr>\n  </tbody>\n</table>\n</div>"
     },
     "execution_count": 4,
     "metadata": {},
     "output_type": "execute_result"
    }
   ],
   "source": [
    "close_price_to_predict_on = df[['Date', 'Price']]\n",
    "new_names = {\n",
    "    \"Date\": \"ds\",\n",
    "    \"Price\": \"y\",\n",
    "}\n",
    "close_price_to_predict_on = close_price_to_predict_on.rename(columns=new_names)\n",
    "close_price_to_predict_on.head()"
   ],
   "metadata": {
    "collapsed": false,
    "pycharm": {
     "name": "#%%\n"
    }
   }
  },
  {
   "cell_type": "markdown",
   "source": [
    "### Building model and predicting values for next year"
   ],
   "metadata": {
    "collapsed": false
   }
  },
  {
   "cell_type": "code",
   "execution_count": 5,
   "outputs": [
    {
     "name": "stdout",
     "output_type": "stream",
     "text": [
      "Initial log joint probability = -167.768\n",
      "    Iter      log prob        ||dx||      ||grad||       alpha      alpha0  # evals  Notes \n",
      "      99       9256.78    0.00828326       790.883           1           1      126   \n",
      "    Iter      log prob        ||dx||      ||grad||       alpha      alpha0  # evals  Notes \n",
      "     199       9417.03    0.00772678       450.106           1           1      254   \n",
      "    Iter      log prob        ||dx||      ||grad||       alpha      alpha0  # evals  Notes \n",
      "     299       9492.36     0.0117521       838.227           1           1      366   \n",
      "    Iter      log prob        ||dx||      ||grad||       alpha      alpha0  # evals  Notes \n",
      "     399       9551.99   0.000448335       266.188      0.2886      0.9931      485   \n",
      "    Iter      log prob        ||dx||      ||grad||       alpha      alpha0  # evals  Notes \n",
      "     499       9591.14    0.00431451       750.878           1           1      608   \n",
      "    Iter      log prob        ||dx||      ||grad||       alpha      alpha0  # evals  Notes \n",
      "     599       9626.06    0.00488066       419.304           1           1      729   \n",
      "    Iter      log prob        ||dx||      ||grad||       alpha      alpha0  # evals  Notes \n",
      "     699       9649.71     0.0088359       2372.31      0.3576      0.3576      846   \n",
      "    Iter      log prob        ||dx||      ||grad||       alpha      alpha0  # evals  Notes \n",
      "     799       9659.69    0.00330419       1047.22      0.1436      0.9568      962   \n",
      "    Iter      log prob        ||dx||      ||grad||       alpha      alpha0  # evals  Notes \n",
      "     899        9669.1    0.00156861       742.141      0.7925      0.7925     1085   \n",
      "    Iter      log prob        ||dx||      ||grad||       alpha      alpha0  # evals  Notes \n",
      "     999       9676.12     0.0012538       1331.93       3.898      0.3898     1207   \n",
      "    Iter      log prob        ||dx||      ||grad||       alpha      alpha0  # evals  Notes \n",
      "    1099       9682.56   0.000784159       586.397           1           1     1331   \n",
      "    Iter      log prob        ||dx||      ||grad||       alpha      alpha0  # evals  Notes \n",
      "    1199       9699.08    0.00099218       510.381       0.218       0.218     1453   \n",
      "    Iter      log prob        ||dx||      ||grad||       alpha      alpha0  # evals  Notes \n",
      "    1299       9704.17   0.000701453        3530.4      0.4739      0.4739     1585   \n",
      "    Iter      log prob        ||dx||      ||grad||       alpha      alpha0  # evals  Notes \n",
      "    1399       9706.71   0.000150761       662.599           1           1     1697   \n",
      "    Iter      log prob        ||dx||      ||grad||       alpha      alpha0  # evals  Notes \n",
      "    1499       9708.89   0.000949571        380.21           1           1     1822   \n",
      "    Iter      log prob        ||dx||      ||grad||       alpha      alpha0  # evals  Notes \n",
      "    1599       9718.01   0.000946709       1173.32      0.4461      0.4461     1955   \n",
      "    Iter      log prob        ||dx||      ||grad||       alpha      alpha0  # evals  Notes \n",
      "    1699       9722.93    0.00402303       2156.92           1           1     2079   \n",
      "    Iter      log prob        ||dx||      ||grad||       alpha      alpha0  # evals  Notes \n",
      "    1799       9726.08   0.000566051       1366.27           1           1     2203   \n",
      "    Iter      log prob        ||dx||      ||grad||       alpha      alpha0  # evals  Notes \n",
      "    1897       9727.22   4.21156e-05       270.362   3.351e-07       0.001     2384  LS failed, Hessian reset \n",
      "    1899       9727.27   0.000341414       886.783      0.3637           1     2388   \n",
      "    Iter      log prob        ||dx||      ||grad||       alpha      alpha0  # evals  Notes \n",
      "    1999       9727.99   0.000349049       1225.84     0.05991      0.6684     2513   \n",
      "    Iter      log prob        ||dx||      ||grad||       alpha      alpha0  # evals  Notes \n",
      "    2099       9729.76     0.0133837       2663.81           1           1     2636   \n",
      "    Iter      log prob        ||dx||      ||grad||       alpha      alpha0  # evals  Notes \n",
      "    2199       9732.15   0.000442649       1720.78           1           1     2751   \n",
      "    Iter      log prob        ||dx||      ||grad||       alpha      alpha0  # evals  Notes \n",
      "    2299       9732.87   8.25516e-05       155.014           1           1     2871   \n",
      "    Iter      log prob        ||dx||      ||grad||       alpha      alpha0  # evals  Notes \n",
      "    2359       9733.55   2.24361e-06       198.112   7.541e-09       0.001     2991  LS failed, Hessian reset \n",
      "    2399       9734.16    0.00011387       439.429      0.7875      0.7875     3037   \n",
      "    Iter      log prob        ||dx||      ||grad||       alpha      alpha0  # evals  Notes \n",
      "    2499       9734.73   0.000393374       1173.03      0.3965      0.3965     3168   \n",
      "    Iter      log prob        ||dx||      ||grad||       alpha      alpha0  # evals  Notes \n",
      "    2599       9735.21   2.88572e-05       168.862      0.8898      0.8898     3293   \n",
      "    Iter      log prob        ||dx||      ||grad||       alpha      alpha0  # evals  Notes \n",
      "    2699       9737.13    0.00195083       265.646           1           1     3419   \n",
      "    Iter      log prob        ||dx||      ||grad||       alpha      alpha0  # evals  Notes \n",
      "    2799       9738.47   0.000532088       293.114           1           1     3542   \n",
      "    Iter      log prob        ||dx||      ||grad||       alpha      alpha0  # evals  Notes \n",
      "    2899       9740.41    0.00168989       304.177           1           1     3660   \n",
      "    Iter      log prob        ||dx||      ||grad||       alpha      alpha0  # evals  Notes \n",
      "    2999       9743.33    0.00793599       356.815           1           1     3781   \n",
      "    Iter      log prob        ||dx||      ||grad||       alpha      alpha0  # evals  Notes \n",
      "    3099       9747.22   0.000601184       1024.24           1           1     3901   \n",
      "    Iter      log prob        ||dx||      ||grad||       alpha      alpha0  # evals  Notes \n",
      "    3199       9751.31    0.00136794        1614.5      0.6442      0.6442     4016   \n",
      "    Iter      log prob        ||dx||      ||grad||       alpha      alpha0  # evals  Notes \n",
      "    3299       9752.93   0.000224914       1852.75           1           1     4130   \n",
      "    Iter      log prob        ||dx||      ||grad||       alpha      alpha0  # evals  Notes \n",
      "    3327       9753.32   1.86476e-06       257.909   5.176e-09       0.001     4212  LS failed, Hessian reset \n",
      "    3399       9753.69   0.000161988       431.655           1           1     4300   \n",
      "    Iter      log prob        ||dx||      ||grad||       alpha      alpha0  # evals  Notes \n",
      "    3431       9753.81   2.15222e-06       176.216   3.308e-08       0.001     4389  LS failed, Hessian reset \n",
      "    3472       9753.88   1.25338e-05         374.7   3.212e-08       0.001     4493  LS failed, Hessian reset \n",
      "    3488       9753.94   5.62061e-07        80.921    6.95e-09       0.001     4563  LS failed, Hessian reset \n",
      "    3499       9753.95   1.91518e-05        90.003           1           1     4579   \n",
      "    Iter      log prob        ||dx||      ||grad||       alpha      alpha0  # evals  Notes \n",
      "    3528       9753.99   8.04818e-07       99.1653   4.336e-09       0.001     4659  LS failed, Hessian reset \n",
      "    3599       9754.08   0.000118336       666.876     0.08315           1     4747   \n",
      "    Iter      log prob        ||dx||      ||grad||       alpha      alpha0  # evals  Notes \n",
      "    3666        9754.5   9.91023e-07       111.283   3.982e-09       0.001     4881  LS failed, Hessian reset \n",
      "    3699       9754.82    9.3029e-05       95.6876           1           1     4917   \n",
      "    Iter      log prob        ||dx||      ||grad||       alpha      alpha0  # evals  Notes \n",
      "    3764       9754.94   6.75216e-07       97.1688   7.083e-09       0.001     5047  LS failed, Hessian reset \n",
      "    3799       9754.97    5.6215e-05       157.167           1           1     5095   \n",
      "    Iter      log prob        ||dx||      ||grad||       alpha      alpha0  # evals  Notes \n",
      "    3821       9754.99    8.9053e-06       338.491   3.736e-08       0.001     5170  LS failed, Hessian reset \n",
      "    3899        9755.2     0.0018347       741.748       2.095      0.2095     5272   \n",
      "    Iter      log prob        ||dx||      ||grad||       alpha      alpha0  # evals  Notes \n",
      "    3999          9756    0.00275315       539.787           1           1     5411   \n",
      "    Iter      log prob        ||dx||      ||grad||       alpha      alpha0  # evals  Notes \n",
      "    4099        9758.5    0.00372323       2804.79      0.1066      0.1066     5543   \n",
      "    Iter      log prob        ||dx||      ||grad||       alpha      alpha0  # evals  Notes \n",
      "    4199       9761.57    0.00470316       1548.25           1           1     5661   \n",
      "    Iter      log prob        ||dx||      ||grad||       alpha      alpha0  # evals  Notes \n",
      "    4299       9764.64    0.00115708       884.878           1           1     5784   \n",
      "    Iter      log prob        ||dx||      ||grad||       alpha      alpha0  # evals  Notes \n",
      "    4353       9765.24   4.73229e-05       636.267   3.042e-07       0.001     5891  LS failed, Hessian reset \n",
      "    4399       9765.49   2.70664e-06       468.957    0.007293           1     5955   \n",
      "    Iter      log prob        ||dx||      ||grad||       alpha      alpha0  # evals  Notes \n",
      "    4499        9766.1   1.43487e-05       195.955      0.1429      0.1429     6080   \n",
      "    Iter      log prob        ||dx||      ||grad||       alpha      alpha0  # evals  Notes \n",
      "    4536       9766.37   2.96407e-06        426.92   1.264e-08       0.001     6164  LS failed, Hessian reset \n",
      "    4599       9766.53    3.3087e-05        389.14      0.8374      0.8374     6238   \n",
      "    Iter      log prob        ||dx||      ||grad||       alpha      alpha0  # evals  Notes \n",
      "    4685       9766.62   5.94423e-07       121.212   4.963e-09       0.001     6401  LS failed, Hessian reset \n",
      "    4699       9766.63   1.20545e-05       303.113       0.628       0.628     6418   \n",
      "    Iter      log prob        ||dx||      ||grad||       alpha      alpha0  # evals  Notes \n",
      "    4799       9766.86   0.000163913       392.976      0.5354     0.05354     6550   \n",
      "    Iter      log prob        ||dx||      ||grad||       alpha      alpha0  # evals  Notes \n",
      "    4873       9767.31   3.76241e-07       73.5824    3.68e-09       0.001     6693  LS failed, Hessian reset \n",
      "Optimization terminated normally: \n",
      "  Convergence detected: relative gradient magnitude is below tolerance\n"
     ]
    }
   ],
   "source": [
    "model = Prophet(seasonality_mode=\"multiplicative\", daily_seasonality=True)\n",
    "model.fit(close_price_to_predict_on)\n",
    "future = model.make_future_dataframe(periods=365)\n",
    "forecast = model.predict(future)"
   ],
   "metadata": {
    "collapsed": false,
    "pycharm": {
     "name": "#%%\n"
    }
   }
  },
  {
   "cell_type": "code",
   "execution_count": 6,
   "outputs": [
    {
     "data": {
      "text/plain": "             ds        trend    yhat_lower     yhat_upper  trend_lower  \\\n4635 2023-03-27  8234.212598  75227.893353  101493.675234  7036.132517   \n4636 2023-03-28  8240.865719  76775.207786  104234.337746  7039.187644   \n4637 2023-03-29  8247.518840  79252.128935  107125.173915  7042.242770   \n4638 2023-03-30  8254.171960  80395.022115  109344.516120  7043.190840   \n4639 2023-03-31  8260.825081  83280.178989  112462.711379  7044.945621   \n\n      trend_upper     daily  daily_lower  daily_upper  multiplicative_terms  \\\n4635  9353.864163  9.145069     9.145069     9.145069              9.794001   \n4636  9370.862756  9.145069     9.145069     9.145069             10.031659   \n4637  9386.147188  9.145069     9.145069     9.145069             10.315564   \n4638  9398.845184  9.145069     9.145069     9.145069             10.515707   \n4639  9409.801859  9.145069     9.145069     9.145069             10.877054   \n\n      ...    weekly  weekly_lower  weekly_upper    yearly  yearly_lower  \\\n4635  ...  0.015366      0.015366      0.015366  0.633566      0.633566   \n4636  ... -0.003970     -0.003970     -0.003970  0.890559      0.890559   \n4637  ...  0.012598      0.012598      0.012598  1.157896      1.157896   \n4638  ... -0.062682     -0.062682     -0.062682  1.433321      1.433321   \n4639  ...  0.017548      0.017548      0.017548  1.714437      1.714437   \n\n      yearly_upper  additive_terms  additive_terms_lower  \\\n4635      0.633566             0.0                   0.0   \n4636      0.890559             0.0                   0.0   \n4637      1.157896             0.0                   0.0   \n4638      1.433321             0.0                   0.0   \n4639      1.714437             0.0                   0.0   \n\n      additive_terms_upper          yhat  \n4635                   0.0  88880.098476  \n4636                   0.0  90910.419525  \n4637                   0.0  93325.323711  \n4638                   0.0  95052.628172  \n4639                   0.0  98114.267263  \n\n[5 rows x 22 columns]",
      "text/html": "<div>\n<style scoped>\n    .dataframe tbody tr th:only-of-type {\n        vertical-align: middle;\n    }\n\n    .dataframe tbody tr th {\n        vertical-align: top;\n    }\n\n    .dataframe thead th {\n        text-align: right;\n    }\n</style>\n<table border=\"1\" class=\"dataframe\">\n  <thead>\n    <tr style=\"text-align: right;\">\n      <th></th>\n      <th>ds</th>\n      <th>trend</th>\n      <th>yhat_lower</th>\n      <th>yhat_upper</th>\n      <th>trend_lower</th>\n      <th>trend_upper</th>\n      <th>daily</th>\n      <th>daily_lower</th>\n      <th>daily_upper</th>\n      <th>multiplicative_terms</th>\n      <th>...</th>\n      <th>weekly</th>\n      <th>weekly_lower</th>\n      <th>weekly_upper</th>\n      <th>yearly</th>\n      <th>yearly_lower</th>\n      <th>yearly_upper</th>\n      <th>additive_terms</th>\n      <th>additive_terms_lower</th>\n      <th>additive_terms_upper</th>\n      <th>yhat</th>\n    </tr>\n  </thead>\n  <tbody>\n    <tr>\n      <th>4635</th>\n      <td>2023-03-27</td>\n      <td>8234.212598</td>\n      <td>75227.893353</td>\n      <td>101493.675234</td>\n      <td>7036.132517</td>\n      <td>9353.864163</td>\n      <td>9.145069</td>\n      <td>9.145069</td>\n      <td>9.145069</td>\n      <td>9.794001</td>\n      <td>...</td>\n      <td>0.015366</td>\n      <td>0.015366</td>\n      <td>0.015366</td>\n      <td>0.633566</td>\n      <td>0.633566</td>\n      <td>0.633566</td>\n      <td>0.0</td>\n      <td>0.0</td>\n      <td>0.0</td>\n      <td>88880.098476</td>\n    </tr>\n    <tr>\n      <th>4636</th>\n      <td>2023-03-28</td>\n      <td>8240.865719</td>\n      <td>76775.207786</td>\n      <td>104234.337746</td>\n      <td>7039.187644</td>\n      <td>9370.862756</td>\n      <td>9.145069</td>\n      <td>9.145069</td>\n      <td>9.145069</td>\n      <td>10.031659</td>\n      <td>...</td>\n      <td>-0.003970</td>\n      <td>-0.003970</td>\n      <td>-0.003970</td>\n      <td>0.890559</td>\n      <td>0.890559</td>\n      <td>0.890559</td>\n      <td>0.0</td>\n      <td>0.0</td>\n      <td>0.0</td>\n      <td>90910.419525</td>\n    </tr>\n    <tr>\n      <th>4637</th>\n      <td>2023-03-29</td>\n      <td>8247.518840</td>\n      <td>79252.128935</td>\n      <td>107125.173915</td>\n      <td>7042.242770</td>\n      <td>9386.147188</td>\n      <td>9.145069</td>\n      <td>9.145069</td>\n      <td>9.145069</td>\n      <td>10.315564</td>\n      <td>...</td>\n      <td>0.012598</td>\n      <td>0.012598</td>\n      <td>0.012598</td>\n      <td>1.157896</td>\n      <td>1.157896</td>\n      <td>1.157896</td>\n      <td>0.0</td>\n      <td>0.0</td>\n      <td>0.0</td>\n      <td>93325.323711</td>\n    </tr>\n    <tr>\n      <th>4638</th>\n      <td>2023-03-30</td>\n      <td>8254.171960</td>\n      <td>80395.022115</td>\n      <td>109344.516120</td>\n      <td>7043.190840</td>\n      <td>9398.845184</td>\n      <td>9.145069</td>\n      <td>9.145069</td>\n      <td>9.145069</td>\n      <td>10.515707</td>\n      <td>...</td>\n      <td>-0.062682</td>\n      <td>-0.062682</td>\n      <td>-0.062682</td>\n      <td>1.433321</td>\n      <td>1.433321</td>\n      <td>1.433321</td>\n      <td>0.0</td>\n      <td>0.0</td>\n      <td>0.0</td>\n      <td>95052.628172</td>\n    </tr>\n    <tr>\n      <th>4639</th>\n      <td>2023-03-31</td>\n      <td>8260.825081</td>\n      <td>83280.178989</td>\n      <td>112462.711379</td>\n      <td>7044.945621</td>\n      <td>9409.801859</td>\n      <td>9.145069</td>\n      <td>9.145069</td>\n      <td>9.145069</td>\n      <td>10.877054</td>\n      <td>...</td>\n      <td>0.017548</td>\n      <td>0.017548</td>\n      <td>0.017548</td>\n      <td>1.714437</td>\n      <td>1.714437</td>\n      <td>1.714437</td>\n      <td>0.0</td>\n      <td>0.0</td>\n      <td>0.0</td>\n      <td>98114.267263</td>\n    </tr>\n  </tbody>\n</table>\n<p>5 rows × 22 columns</p>\n</div>"
     },
     "execution_count": 6,
     "metadata": {},
     "output_type": "execute_result"
    }
   ],
   "source": [
    "forecast.tail()"
   ],
   "metadata": {
    "collapsed": false,
    "pycharm": {
     "name": "#%%\n"
    }
   }
  },
  {
   "cell_type": "code",
   "execution_count": 7,
   "outputs": [],
   "source": [
    "close_price_to_predict_on = close_price_to_predict_on.set_index('ds')\n",
    "close_price_to_predict_on = close_price_to_predict_on.iloc[::-1]\n",
    "\n",
    "forecast = forecast[['ds', 'yhat']]\n",
    "forecast = forecast.set_index('ds')"
   ],
   "metadata": {
    "collapsed": false,
    "pycharm": {
     "name": "#%%\n"
    }
   }
  },
  {
   "cell_type": "code",
   "execution_count": 8,
   "outputs": [
    {
     "data": {
      "text/plain": "<Figure size 1080x504 with 1 Axes>",
      "image/png": "[encoded data removed]"
     },
     "metadata": {
      "needs_background": "light"
     },
     "output_type": "display_data"
    }
   ],
   "source": [
    "plt.figure(figsize=(15,7))\n",
    "close_price_to_predict_on.y.plot(label='Actual Close')\n",
    "forecast.yhat.plot(color='r', ls='--', label='Predicted Close')\n",
    "plt.legend()\n",
    "plt.title('Bitcoin forecast')\n",
    "plt.ylabel('USD')\n",
    "plt.xlabel('Timestamp')\n",
    "plt.show()"
   ],
   "metadata": {
    "collapsed": false,
    "pycharm": {
     "name": "#%%\n"
    }
   }
  },
  {
   "cell_type": "code",
   "execution_count": 9,
   "outputs": [
    {
     "data": {
      "text/plain": "                   Close\nds                      \n2023-02-01  66274.541925",
      "text/html": "<div>\n<style scoped>\n    .dataframe tbody tr th:only-of-type {\n        vertical-align: middle;\n    }\n\n    .dataframe tbody tr th {\n        vertical-align: top;\n    }\n\n    .dataframe thead th {\n        text-align: right;\n    }\n</style>\n<table border=\"1\" class=\"dataframe\">\n  <thead>\n    <tr style=\"text-align: right;\">\n      <th></th>\n      <th>Close</th>\n    </tr>\n    <tr>\n      <th>ds</th>\n      <th></th>\n    </tr>\n  </thead>\n  <tbody>\n    <tr>\n      <th>2023-02-01</th>\n      <td>66274.541925</td>\n    </tr>\n  </tbody>\n</table>\n</div>"
     },
     "execution_count": 9,
     "metadata": {},
     "output_type": "execute_result"
    }
   ],
   "source": [
    "future_day = '2023-02-01'\n",
    "forecast.rename(columns={'yhat': 'Close'}, inplace=True)\n",
    "forecast.filter(items=[future_day], axis=0)"
   ],
   "metadata": {
    "collapsed": false,
    "pycharm": {
     "name": "#%%\n"
    }
   }
  },
  {
   "cell_type": "code",
   "execution_count": null,
   "outputs": [],
   "source": [],
   "metadata": {
    "collapsed": false,
    "pycharm": {
     "name": "#%%\n"
    }
   }
  }
 ],
 "metadata": {
  "kernelspec": {
   "display_name": "Python 3",
   "language": "python",
   "name": "python3"
  },
  "language_info": {
   "codemirror_mode": {
    "name": "ipython",
    "version": 2
   },
   "file_extension": ".py",
   "mimetype": "text/x-python",
   "name": "python",
   "nbconvert_exporter": "python",
   "pygments_lexer": "ipython2",
   "version": "2.7.6"
  }
 },
 "nbformat": 4,
 "nbformat_minor": 0
}